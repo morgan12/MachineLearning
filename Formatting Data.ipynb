{
 "cells": [
  {
   "cell_type": "code",
   "execution_count": 59,
   "metadata": {},
   "outputs": [
    {
     "data": {
      "text/plain": [
       "array([['T', 2, 8, ..., 8, 0, 8],\n",
       "       ['I', 5, 12, ..., 8, 4, 10],\n",
       "       ['D', 4, 11, ..., 7, 3, 9],\n",
       "       ..., \n",
       "       ['T', 6, 9, ..., 12, 2, 4],\n",
       "       ['S', 2, 3, ..., 9, 5, 8],\n",
       "       ['A', 4, 9, ..., 7, 2, 8]], dtype=object)"
      ]
     },
     "execution_count": 59,
     "metadata": {},
     "output_type": "execute_result"
    }
   ],
   "source": [
    "import pandas as pd\n",
    "df=pd.read_csv('https://archive.ics.uci.edu/ml/machine-learning-databases/letter-recognition/letter-recognition.data', sep=',',header=None)\n",
    "df.values"
   ]
  },
  {
   "cell_type": "code",
   "execution_count": 70,
   "metadata": {},
   "outputs": [],
   "source": [
    "import pandas as pd\n",
    "df=pd.read_csv('https://archive.ics.uci.edu/ml/machine-learning-databases/letter-recognition/letter-recognition.data', sep=',',header=None)\n",
    "df.values\n",
    "data = df.values[:,1:17]\n",
    "target = df.values[:,0:1]\n",
    "\n",
    "i = 0\n",
    "while i < len(target):\n",
    "    if(target[i] == 'A'):\n",
    "        target[i] = 1\n",
    "        i = i + 1\n",
    "    elif(target[i] == 'B'):\n",
    "        target[i] = 2\n",
    "        i = i + 1\n",
    "    elif(target[i] == 'C'):\n",
    "        target[i] = 3\n",
    "        i = i + 1\n",
    "    elif(target[i] == 'D'):\n",
    "        target[i] = 4\n",
    "        i = i + 1\n",
    "    elif(target[i] == 'E'):\n",
    "        target[i] = 5\n",
    "        i = i + 1\n",
    "    elif(target[i] == 'F'):\n",
    "        target[i] = 6\n",
    "        i = i + 1\n",
    "    elif(target[i] == 'G'):\n",
    "        target[i] = 7\n",
    "        i = i + 1\n",
    "    elif(target[i] == 'H'):\n",
    "        target[i] = 8\n",
    "        i = i + 1\n",
    "    elif(target[i] == 'I'):\n",
    "        target[i] = 9\n",
    "        i = i + 1\n",
    "    elif(target[i] == 'J'):\n",
    "        target[i] = 10\n",
    "        i = i + 1\n",
    "    elif(target[i] == 'K'):\n",
    "        target[i] = 11\n",
    "        i = i + 1\n",
    "    elif(target[i] == 'L'):\n",
    "        target[i] = 12\n",
    "        i = i + 1\n",
    "    elif(target[i] == 'M'):\n",
    "        target[i] = 13\n",
    "        i = i + 1\n",
    "    elif(target[i] == 'N'):\n",
    "        target[i] = 14\n",
    "        i = i + 1\n",
    "    elif(target[i] == 'O'):\n",
    "        target[i] = 15\n",
    "        i = i + 1\n",
    "    elif(target[i] == 'P'):\n",
    "        target[i] = 16\n",
    "        i = i + 1\n",
    "    elif(target[i] == 'Q'):\n",
    "        target[i] = 17\n",
    "        i = i + 1\n",
    "    elif(target[i] == 'R'):\n",
    "        target[i] = 18\n",
    "        i = i + 1\n",
    "    elif(target[i] == 'S'):\n",
    "        target[i] = 19\n",
    "        i = i + 1\n",
    "    elif(target[i] == 'T'):\n",
    "        target[i] = 20\n",
    "        i = i + 1\n",
    "    elif(target[i] == 'U'):\n",
    "        target[i] = 21\n",
    "        i = i + 1\n",
    "    elif(target[i] == 'V'):\n",
    "        target[i] = 22\n",
    "        i = i + 1\n",
    "    elif(target[i] == 'W'):\n",
    "        target[i] = 23\n",
    "        i = i + 1\n",
    "    elif(target[i] == 'X'):\n",
    "        target[i] = 24\n",
    "        i = i + 1\n",
    "    elif(target[i] == 'Y'):\n",
    "        target[i] = 25\n",
    "        i = i + 1\n",
    "    elif(target[i] == 'Z'):\n",
    "        target[i] = 26\n",
    "        i = i + 1"
   ]
  },
  {
   "cell_type": "code",
   "execution_count": 71,
   "metadata": {},
   "outputs": [],
   "source": [
    "import numpy as np\n",
    "from sklearn.model_selection import train_test_split\n",
    "data_training, data_testing, target_training1, target_testing1 = train_test_split(data, target, test_size=0.33, random_state=42)\n",
    "\n",
    "i = 0\n",
    "target_training = []\n",
    "while i < len(target_training1):\n",
    "    x = target_training1[i][0]\n",
    "    target_training.append(x)\n",
    "    i = i + 1\n",
    "\n",
    "i = 0\n",
    "target_testing = []\n",
    "while i < len(target_testing1):\n",
    "    x = target_testing1[i][0]\n",
    "    target_testing.append(x)\n",
    "    i = i + 1"
   ]
  },
  {
   "cell_type": "code",
   "execution_count": 80,
   "metadata": {},
   "outputs": [],
   "source": [
    "from sklearn import tree\n",
    "\n",
    "\n",
    "X = data_training\n",
    "y = target_training\n",
    "\n",
    "clf = tree.DecisionTreeClassifier()\n",
    "clf = clf.fit(X, y)"
   ]
  },
  {
   "cell_type": "code",
   "execution_count": 93,
   "metadata": {},
   "outputs": [
    {
     "name": "stdout",
     "output_type": "stream",
     "text": [
      "0.8675\n"
     ]
    }
   ],
   "source": [
    "samples = len(data_training)\n",
    "prediction = clf.predict(data_testing)\n",
    "j = 0\n",
    "for i in range (0,2000):\n",
    "    if(prediction[i] == target_testing[i]):\n",
    "        j = j + 1\n",
    "        \n",
    "print(j/2000)"
   ]
  },
  {
   "cell_type": "code",
   "execution_count": null,
   "metadata": {
    "collapsed": true
   },
   "outputs": [],
   "source": []
  }
 ],
 "metadata": {
  "kernelspec": {
   "display_name": "Python 3",
   "language": "python",
   "name": "python3"
  },
  "language_info": {
   "codemirror_mode": {
    "name": "ipython",
    "version": 3
   },
   "file_extension": ".py",
   "mimetype": "text/x-python",
   "name": "python",
   "nbconvert_exporter": "python",
   "pygments_lexer": "ipython3",
   "version": "3.6.1"
  }
 },
 "nbformat": 4,
 "nbformat_minor": 2
}
